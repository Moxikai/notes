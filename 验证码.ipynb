{
 "cells": [
  {
   "cell_type": "markdown",
   "metadata": {},
   "source": [
    "---\n",
    "title: Captcha\n",
    "style: json-post\n",
    "---\n",
    "\n",
    "```javascript\n",
    "function getBase64Image(img) {\n",
    "\n",
    "    // Create an empty canvas element\n",
    "    var canvas = document.createElement(\"canvas\");\n",
    "    canvas.width = img.width;\n",
    "    canvas.height = img.height;\n",
    "\n",
    "    // Copy the image contents to the canvas\n",
    "    var ctx = canvas.getContext(\"2d\");\n",
    "    ctx.drawImage(img, 0, 0);\n",
    "\n",
    "    // Get the data-URL formatted image\n",
    "    // Firefox supports PNG and JPEG. You could check img.src to\n",
    "    // guess the original format, but be aware the using \"image/jpg\"\n",
    "    // will re-encode the image.\n",
    "    var dataURL = canvas.toDataURL(\"image/png\");\n",
    "\n",
    "    return dataURL.replace(/^data:image\\/(png|jpg);base64,/, \"\");\n",
    "}\n",
    "```\n",
    "\n",
    "\n",
    "搜狗:\n",
    "    - https://account.sogou.com/captcha\n",
    "\n",
    "微信搜狗:\n",
    "    - http://weixin.sogou.com/antispider/util/seccode.php\n",
    "\n",
    "新浪:\n",
    "    - http://login.sina.com.cn/cgi/pin.php\n",
    "\n",
    "搜狐:\n",
    "    - http://passport.sohu.com/captcha?time=0.8642809421289712\n",
    "\n",
    "知乎:\n",
    "    - http://www.zhihu.com/captcha.gif?r=1435474138937\n",
    "\n",
    "雪球:\n",
    "    - http://xueqiu.com/service/captcha/id\n",
    "        - http://xueqiu.com/service/captcha/img\n",
    "\n",
    "Tencent:\n",
    "    - http://captcha.qq.com/getimage?aid=1007901&r=0.3246201630681753\n",
    "    - http://captcha.qq.com/getQueSig?aid=0&uin=0&captype=2\n",
    "        - http://captcha.qq.com/getimgbysig?sig={}\n",
    "\n",
    "Baidu:\n",
    "    - https://passport.baidu.com/v2/?reggetcodestr&token=470d8e014df75d0aca11e514e22a3c6c&tpl=mn&apiver=v3&tt=1469676796229&fr=login&vcodetype=4459WwZwyuRzllYo5Oly5pYL4b2v%2FISq3mUhXyHnVM7onPuth8aa5QFx%2BZTlEB4RZaLmgz9CvhSqpXORjUVDGD5jol8zmI7Bb%2BBFcg&callback=bd__cbs__61g4yi\n",
    "    - https://passport.baidu.com/cgi-bin/genimage?njG1006f557659ef5fa02b6142f5b01418a76a05b06480189c6"
   ]
  },
  {
   "cell_type": "code",
   "execution_count": null,
   "metadata": {
    "collapsed": true
   },
   "outputs": [],
   "source": []
  }
 ],
 "metadata": {
  "kernelspec": {
   "display_name": "Python [Root]",
   "language": "python",
   "name": "Python [Root]"
  },
  "language_info": {
   "codemirror_mode": {
    "name": "ipython",
    "version": 2
   },
   "file_extension": ".py",
   "mimetype": "text/x-python",
   "name": "python",
   "nbconvert_exporter": "python",
   "pygments_lexer": "ipython2",
   "version": "2.7.12"
  }
 },
 "nbformat": 4,
 "nbformat_minor": 0
}
