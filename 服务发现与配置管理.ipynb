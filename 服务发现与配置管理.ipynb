{
 "cells": [
  {
   "cell_type": "markdown",
   "metadata": {},
   "source": [
    "# 服务发现与配置管理\n",
    "\n",
    "> 现在爬虫各项的每个模块是用配置文件来自做配置管理，如此会存在几个很明显的问题：\n",
    "1. 更改配置需要发布代码\n",
    "2. 如果服务存在宕机，恢复周期较长\n",
    "3. 部分服务是走的Nginx（前级）做负载均衡，这里出问题后面基本全挂\n",
    "\n"
   ]
  }
 ],
 "metadata": {
  "kernelspec": {
   "display_name": "Python [Root]",
   "language": "python",
   "name": "Python [Root]"
  },
  "language_info": {
   "codemirror_mode": {
    "name": "ipython",
    "version": 2
   },
   "file_extension": ".py",
   "mimetype": "text/x-python",
   "name": "python",
   "nbconvert_exporter": "python",
   "pygments_lexer": "ipython2",
   "version": "2.7.12"
  }
 },
 "nbformat": 4,
 "nbformat_minor": 0
}
