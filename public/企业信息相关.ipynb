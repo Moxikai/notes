{
 "cells": [
  {
   "cell_type": "markdown",
   "metadata": {},
   "source": [
    "## 工商信息\n",
    "\n",
    "### 政府网站\n",
    "\n",
    "site: http://gsxt.saic.gov.cn/\n",
    "\n",
    "#### Web接口[ html ]：\n",
    "\n",
    "|Num|功能|Host|Method|Url|是否需要登录|备注|\n",
    "|:-:|:-:|:-:|:-:|:-|:-:|:-:|\n",
    "|1|搜索|Host|POST|/search/doGetAppSearchResultIn.do|否|-|\n",
    "\n",
    "curl: 'http://gsxt.zjaic.gov.cn/search/doGetAppSearchResultIn.do' -H 'Cookie: JSESSIONID=693E50246AEA96C33AE31C1A8A153534.gsxt46; CNZZDATA1000503299=1494256469-1470618812-http%253A%252F%252Fgsxt.zjaic.gov.cn%252F%7C1470629613' -H 'User-Agent: Mozilla/5.0 (Windows NT 6.1) AppleWebKit/537.36 (KHTML, like Gecko) Chrome/50.0.2661.87 Safari/537.36' --data 'verifyCode=%E7%BA%A6%E6%B3%95%E4%B8%89%E7%AB%A0&struts.token.name=token&token=HRQ2TE1WTWA23XBVJNNQ05O3KH64XOW6'\n",
    "\n",
    "\n",
    "\n",
    "\n",
    "http://gsxt.zjaic.gov.cn/appbasicinfo/doViewAppBasicInfo.do?corpid=BFC467CACCE9DCBE7FEABEB494122BF18577F8B0247EA142075208FD55D71D8D\n",
    "\n",
    "8577F8B0247EA142075208FD55D71D8D\n",
    "\n",
    "\n",
    "Refer: http://gsxt.zjaic.gov.cn/appbasicinfo/doViewAppBasicInfo.do?corpid=10F8FB8C7B7B5E2C545D1AE4C07EC0E39B258257EA727ACE3BF891B9EDA817F5\n",
    "\n",
    "\n",
    "\n",
    "请求限制严格\n",
    "\n",
    "示例验证码：\n",
    "\n",
    "- http://xygs.snaic.gov.cn/ztxy.do?method=createYzm&dt=1470705418235&random=1470705418235\n",
    "- https://www.sgs.gov.cn/notice/captcha?preset=&ra=0.8796456969851367\n",
    "- http://gsxt.gdgs.gov.cn/aiccips//verify.html?random=0.81595208627586\n",
    "\n",
    "\n",
    "### 企查查\n",
    "\n",
    "site: http://www.qichacha.com/\n",
    "\n",
    "信息获取（全）需要登录\n",
    "\n",
    "#### Web接口[ html ]：\n",
    "\n",
    "|Num|功能|Host|Method|Url|是否需要登录|备注|\n",
    "|:-:|:-:|:-:|:-:|:-|:-:|:-:|\n",
    "|1|搜索|www.qichacha.com|GET|/search_index?key=同花顺&index=0&ajaxflag=true&p=2|YES|-|\n",
    "|2|基本信息|www.qichacha.com|GET|/firm_ZJ_9bd10f697c7b70b9fc47b3fd36624110.shtml|YES|-|\n",
    "|3|详情|www.qichacha.com|GET|/company_getinfos?unique=9bd10f697c7b70b9fc47b3fd36624110&companyname=浙江核新同花顺网络信息股份有限公司|YES:|-|\n",
    "|4|关系|www.qichacha.com|GET|/cms_map?keyNo=b85175f159f8be58a55ea670e7c4efaf&upstreamCount=1&downstreamCount=1|YES|-|\n",
    "|5|关系中的基本信息|www.qichacha.com|GET|/more_findRelationsDetail?keyNo=c39ed25bfaa7748f53f28efd4c66c2ef|YES|-|\n",
    "|6|shixin|www.qichacha.com|GET|/shixinDetail.shtml|YES|参数通过cookie传入|\n",
    "|7|wenshu|www.qichacha.com|GET|/wenshuDetail.shtml|YES|参数通过cookie传入|\n",
    "\n",
    "> 1: &statusCode=&registCapiBegin=&registCapiEnd=&sortField=&isSortAsc=\n",
    "&province=&startDateBegin=&startDateEnd=&cityCode=&industryCode=&subIndustryCode=\n",
    "\n",
    "#### 登录\n",
    "\n",
    "1. 普通登录， 拖动验证码\n",
    "\n",
    "2. 微信扫描登录\n",
    "\n",
    "3. qq登录， tencent验证码\n",
    "\n",
    "\n",
    "\n",
    "1. http://www.qichacha.com/user_qqlogin\n",
    "\n",
    "\n",
    "### 天眼查\n",
    "\n",
    "site: http://www.tianyancha.com/\n",
    "\n",
    "#### Web接口：\n",
    "\n",
    "\n",
    "|Num|功能|Host|Method|Url|是否需要登录|备注|\n",
    "|:-:|:-:|:-:|:-:|:-|:-:|:-:|\n",
    "|1|推荐企业|www.tianyancha.com|GET|/suggest/同花顺.json|NO|直接访问|\n",
    "|2|搜索|www.tianyancha.com|GET|/search/同花顺.json?&pn=1|NO|需验证|\n",
    "|3|搜索|www.tianyancha.com|GET|/realtime/同花顺.json?from=realtime|NO|需验证|\n",
    "|4|ICP信息|www.tianyancha.com|GET|/IcpList/46928783.json|NO|直接访问|\n",
    "|5|公司信息|www.tianyancha.com|GET|/company/46928783.json|NO|需验证|\n",
    "|6|法律诉讼|www.tianyancha.com|GET|getlawsuit/浙江核新同花顺网络信息股份有限公司.json?page=0|NO|需验证|\n",
    "|7|新闻|www.tianyancha.com|GET|/getnews/浙江核新同花顺网络信息股份有限公司.json|NO|需验证|\n",
    "|8|法院公告|www.tianyancha.com|GET|/court/浙江核新同花顺网络信息股份有限公司.json|NO|直接访问|\n",
    "|9|版权信息|www.tianyancha.com|GET|extend/getCopyrightList.json?companyName=浙江核新同花顺网络信息股份有限公司&pn=1&ps=5|NO|直接访问|\n",
    "|10|专利|www.tianyancha.com|GET|/getPatentList.json?companyName=浙江核新同花顺网络信息股份有限公司&pn=1&ps=5|NO|直接访问|\n",
    "|11|任职人员|www.tianyancha.com|GET|extend/getEmploymentList.json?companyName浙江核新同花顺网络信息股份有限公司&pn=1&ps=5|NO|需验证|\n",
    "|12|Company Bid|www.tianyancha.com|GET|/extend/getCompanyBid.json?companyName=浙江核新同花顺网络信息股份有限公司&pn=1&ps=20|NO|需验证|\n",
    "|13|Bond List|www.tianyancha.com|GET|extend/getBondList.json?companyName=浙江核新同花顺网络信息股份有限公司&pn=1&ps=5|NO|需验证|\n",
    "|14|Dishonest|www.tianyancha.com|GET|/dishonest/浙江核新同花顺网络信息股份有限公司.json?pageNum=1|NO|需验证|\n",
    "|15|New Company Name|www.tianyancha.com|GET|/search/getNewCompanyName.json?companyName=浙江核新同花顺网络信息股份有限公司|NO|需验证|\n",
    "|16|Near|www.tianyancha.com|GET|/near/s.json?id=46928783&pn=1|NO|直接访问|\n",
    "|17|List Company By Province|www.tianyancha.com|GET|/search/%22%24%22.json?&pn=11&type=tail&base=bj|NO|需验证|\n",
    "|17|年报|www.tianyancha.com|GET|/annualreport/newReport.json?id=46928783&year=2015|NO|需验证|\n",
    "\n",
    "\n",
    "> \n",
    " - 按城市列出公司，\n",
    "  http://www.tianyancha.com/search/%22%24%22.json?&type=tail&base=ah&city=%E5%90%88%E8%82%A5\n",
    " - 省份、城市列表在 js 代码中，\n",
    "  http://cache.tianyancha.com/wap/resources/js/b45f14d3489a1759d725beb0293277b5.js\n",
    "\n",
    "** 可能动作验证 **\n",
    "\n",
    "- http://www.tianyancha.com/tongji/浙江核新同花顺网络信息股份有限公司.json?random=1470638632292\n"
   ]
  },
  {
   "cell_type": "code",
   "execution_count": null,
   "metadata": {
    "collapsed": false
   },
   "outputs": [],
   "source": [
    "import requests, re"
   ]
  },
  {
   "cell_type": "code",
   "execution_count": null,
   "metadata": {
    "collapsed": true
   },
   "outputs": [],
   "source": [
    "url = \"http://www.tianyancha.com/company/%E6%B5%99%E6%B1%9F%E5%90%8C%E8%8A%B1%E9%A1%BA%E4%BA%91%E8%BD%AF%E4%BB%B6%E6%9C%89%E9%99%90%E5%85%AC%E5%8F%B8.json\""
   ]
  },
  {
   "cell_type": "code",
   "execution_count": null,
   "metadata": {
    "collapsed": true
   },
   "outputs": [],
   "source": [
    "headers = {'Accept': 'application/json, text/plain, */*'}"
   ]
  },
  {
   "cell_type": "code",
   "execution_count": 21,
   "metadata": {
    "collapsed": true
   },
   "outputs": [],
   "source": [
    "def getCookies(url):\n",
    "    r = re.compile('token=(\\w+);')\n",
    "    cookies = {'TYCID': 'e2a419329b054761be899285c765d897'}\n",
    "    cookies['token'] = r.search(''.join([chr(int(i))for i in requests.get(re.compile('\\/(.+)\\.json').search(url).group(1), headers=headers, cookies=cookies).json()['data']['v'].split(',')])).group(1)\n",
    "    return cookies"
   ]
  },
  {
   "cell_type": "code",
   "execution_count": 23,
   "metadata": {
    "collapsed": true
   },
   "outputs": [
    {
     "ename": "ConnectionError",
     "evalue": "HTTPConnectionPool(host='www.tianyancha.com', port=80): Max retries exceeded with url: /tongji/%E6%B5%99%E6%B1%9F%E5%90%8C%E8%8A%B1%E9%A1%BA%E4%BA%91%E8%BD%AF%E4%BB%B6%E6%9C%89%E9%99%90%E5%85%AC%E5%8F%B8.json (Caused by NewConnectionError('<requests.packages.urllib3.connection.HTTPConnection object at 0x7f02647d09d0>: Failed to establish a new connection: [Errno -2] Name or service not known',))",
     "output_type": "error",
     "traceback": [
      "\u001b[1;31m\u001b[0m",
      "\u001b[1;31mConnectionError\u001b[0mTraceback (most recent call last)",
      "\u001b[1;32m<ipython-input-23-0e494b518bb1>\u001b[0m in \u001b[0;36m<module>\u001b[1;34m()\u001b[0m\n\u001b[1;32m----> 1\u001b[1;33m \u001b[0mrequests\u001b[0m\u001b[1;33m.\u001b[0m\u001b[0mget\u001b[0m\u001b[1;33m(\u001b[0m\u001b[0murl\u001b[0m\u001b[1;33m,\u001b[0m \u001b[0mheaders\u001b[0m\u001b[1;33m=\u001b[0m\u001b[0mheaders\u001b[0m\u001b[1;33m,\u001b[0m \u001b[0mcookies\u001b[0m\u001b[1;33m=\u001b[0m\u001b[0mgetCookies\u001b[0m\u001b[1;33m(\u001b[0m\u001b[1;33m)\u001b[0m\u001b[1;33m)\u001b[0m\u001b[1;33m.\u001b[0m\u001b[0mjson\u001b[0m\u001b[1;33m(\u001b[0m\u001b[1;33m)\u001b[0m\u001b[1;33m\u001b[0m\u001b[0m\n\u001b[0m",
      "\u001b[1;32m<ipython-input-21-ee1c77e1d646>\u001b[0m in \u001b[0;36mgetCookies\u001b[1;34m()\u001b[0m\n\u001b[0;32m      2\u001b[0m     \u001b[0mr\u001b[0m \u001b[1;33m=\u001b[0m \u001b[0mre\u001b[0m\u001b[1;33m.\u001b[0m\u001b[0mcompile\u001b[0m\u001b[1;33m(\u001b[0m\u001b[1;34m'token=(\\w+);'\u001b[0m\u001b[1;33m)\u001b[0m\u001b[1;33m\u001b[0m\u001b[0m\n\u001b[0;32m      3\u001b[0m     \u001b[0mcookies\u001b[0m \u001b[1;33m=\u001b[0m \u001b[1;33m{\u001b[0m\u001b[1;34m'TYCID'\u001b[0m\u001b[1;33m:\u001b[0m \u001b[1;34m'e2a419329b054761be899285c765d897'\u001b[0m\u001b[1;33m}\u001b[0m\u001b[1;33m\u001b[0m\u001b[0m\n\u001b[1;32m----> 4\u001b[1;33m     \u001b[0mcookies\u001b[0m\u001b[1;33m[\u001b[0m\u001b[1;34m'token'\u001b[0m\u001b[1;33m]\u001b[0m \u001b[1;33m=\u001b[0m \u001b[0mr\u001b[0m\u001b[1;33m.\u001b[0m\u001b[0msearch\u001b[0m\u001b[1;33m(\u001b[0m\u001b[1;34m''\u001b[0m\u001b[1;33m.\u001b[0m\u001b[0mjoin\u001b[0m\u001b[1;33m(\u001b[0m\u001b[1;33m[\u001b[0m\u001b[0mchr\u001b[0m\u001b[1;33m(\u001b[0m\u001b[0mint\u001b[0m\u001b[1;33m(\u001b[0m\u001b[0mi\u001b[0m\u001b[1;33m)\u001b[0m\u001b[1;33m)\u001b[0m\u001b[1;32mfor\u001b[0m \u001b[0mi\u001b[0m \u001b[1;32min\u001b[0m \u001b[0mrequests\u001b[0m\u001b[1;33m.\u001b[0m\u001b[0mget\u001b[0m\u001b[1;33m(\u001b[0m\u001b[0murl\u001b[0m\u001b[1;33m,\u001b[0m \u001b[0mheaders\u001b[0m\u001b[1;33m=\u001b[0m\u001b[0mheaders\u001b[0m\u001b[1;33m,\u001b[0m \u001b[0mcookies\u001b[0m\u001b[1;33m=\u001b[0m\u001b[0mcookies\u001b[0m\u001b[1;33m)\u001b[0m\u001b[1;33m.\u001b[0m\u001b[0mjson\u001b[0m\u001b[1;33m(\u001b[0m\u001b[1;33m)\u001b[0m\u001b[1;33m[\u001b[0m\u001b[1;34m'data'\u001b[0m\u001b[1;33m]\u001b[0m\u001b[1;33m[\u001b[0m\u001b[1;34m'v'\u001b[0m\u001b[1;33m]\u001b[0m\u001b[1;33m.\u001b[0m\u001b[0msplit\u001b[0m\u001b[1;33m(\u001b[0m\u001b[1;34m','\u001b[0m\u001b[1;33m)\u001b[0m\u001b[1;33m]\u001b[0m\u001b[1;33m)\u001b[0m\u001b[1;33m)\u001b[0m\u001b[1;33m.\u001b[0m\u001b[0mgroup\u001b[0m\u001b[1;33m(\u001b[0m\u001b[1;36m1\u001b[0m\u001b[1;33m)\u001b[0m\u001b[1;33m\u001b[0m\u001b[0m\n\u001b[0m\u001b[0;32m      5\u001b[0m     \u001b[1;32mreturn\u001b[0m \u001b[0mcookies\u001b[0m\u001b[1;33m\u001b[0m\u001b[0m\n",
      "\u001b[1;32m/home/zh/anaconda2/lib/python2.7/site-packages/requests/api.pyc\u001b[0m in \u001b[0;36mget\u001b[1;34m(url, params, **kwargs)\u001b[0m\n\u001b[0;32m     69\u001b[0m \u001b[1;33m\u001b[0m\u001b[0m\n\u001b[0;32m     70\u001b[0m     \u001b[0mkwargs\u001b[0m\u001b[1;33m.\u001b[0m\u001b[0msetdefault\u001b[0m\u001b[1;33m(\u001b[0m\u001b[1;34m'allow_redirects'\u001b[0m\u001b[1;33m,\u001b[0m \u001b[0mTrue\u001b[0m\u001b[1;33m)\u001b[0m\u001b[1;33m\u001b[0m\u001b[0m\n\u001b[1;32m---> 71\u001b[1;33m     \u001b[1;32mreturn\u001b[0m \u001b[0mrequest\u001b[0m\u001b[1;33m(\u001b[0m\u001b[1;34m'get'\u001b[0m\u001b[1;33m,\u001b[0m \u001b[0murl\u001b[0m\u001b[1;33m,\u001b[0m \u001b[0mparams\u001b[0m\u001b[1;33m=\u001b[0m\u001b[0mparams\u001b[0m\u001b[1;33m,\u001b[0m \u001b[1;33m**\u001b[0m\u001b[0mkwargs\u001b[0m\u001b[1;33m)\u001b[0m\u001b[1;33m\u001b[0m\u001b[0m\n\u001b[0m\u001b[0;32m     72\u001b[0m \u001b[1;33m\u001b[0m\u001b[0m\n\u001b[0;32m     73\u001b[0m \u001b[1;33m\u001b[0m\u001b[0m\n",
      "\u001b[1;32m/home/zh/anaconda2/lib/python2.7/site-packages/requests/api.pyc\u001b[0m in \u001b[0;36mrequest\u001b[1;34m(method, url, **kwargs)\u001b[0m\n\u001b[0;32m     55\u001b[0m     \u001b[1;31m# cases, and look like a memory leak in others.\u001b[0m\u001b[1;33m\u001b[0m\u001b[1;33m\u001b[0m\u001b[0m\n\u001b[0;32m     56\u001b[0m     \u001b[1;32mwith\u001b[0m \u001b[0msessions\u001b[0m\u001b[1;33m.\u001b[0m\u001b[0mSession\u001b[0m\u001b[1;33m(\u001b[0m\u001b[1;33m)\u001b[0m \u001b[1;32mas\u001b[0m \u001b[0msession\u001b[0m\u001b[1;33m:\u001b[0m\u001b[1;33m\u001b[0m\u001b[0m\n\u001b[1;32m---> 57\u001b[1;33m         \u001b[1;32mreturn\u001b[0m \u001b[0msession\u001b[0m\u001b[1;33m.\u001b[0m\u001b[0mrequest\u001b[0m\u001b[1;33m(\u001b[0m\u001b[0mmethod\u001b[0m\u001b[1;33m=\u001b[0m\u001b[0mmethod\u001b[0m\u001b[1;33m,\u001b[0m \u001b[0murl\u001b[0m\u001b[1;33m=\u001b[0m\u001b[0murl\u001b[0m\u001b[1;33m,\u001b[0m \u001b[1;33m**\u001b[0m\u001b[0mkwargs\u001b[0m\u001b[1;33m)\u001b[0m\u001b[1;33m\u001b[0m\u001b[0m\n\u001b[0m\u001b[0;32m     58\u001b[0m \u001b[1;33m\u001b[0m\u001b[0m\n\u001b[0;32m     59\u001b[0m \u001b[1;33m\u001b[0m\u001b[0m\n",
      "\u001b[1;32m/home/zh/anaconda2/lib/python2.7/site-packages/requests/sessions.pyc\u001b[0m in \u001b[0;36mrequest\u001b[1;34m(self, method, url, params, data, headers, cookies, files, auth, timeout, allow_redirects, proxies, hooks, stream, verify, cert, json)\u001b[0m\n\u001b[0;32m    473\u001b[0m         }\n\u001b[0;32m    474\u001b[0m         \u001b[0msend_kwargs\u001b[0m\u001b[1;33m.\u001b[0m\u001b[0mupdate\u001b[0m\u001b[1;33m(\u001b[0m\u001b[0msettings\u001b[0m\u001b[1;33m)\u001b[0m\u001b[1;33m\u001b[0m\u001b[0m\n\u001b[1;32m--> 475\u001b[1;33m         \u001b[0mresp\u001b[0m \u001b[1;33m=\u001b[0m \u001b[0mself\u001b[0m\u001b[1;33m.\u001b[0m\u001b[0msend\u001b[0m\u001b[1;33m(\u001b[0m\u001b[0mprep\u001b[0m\u001b[1;33m,\u001b[0m \u001b[1;33m**\u001b[0m\u001b[0msend_kwargs\u001b[0m\u001b[1;33m)\u001b[0m\u001b[1;33m\u001b[0m\u001b[0m\n\u001b[0m\u001b[0;32m    476\u001b[0m \u001b[1;33m\u001b[0m\u001b[0m\n\u001b[0;32m    477\u001b[0m         \u001b[1;32mreturn\u001b[0m \u001b[0mresp\u001b[0m\u001b[1;33m\u001b[0m\u001b[0m\n",
      "\u001b[1;32m/home/zh/anaconda2/lib/python2.7/site-packages/requests/sessions.pyc\u001b[0m in \u001b[0;36msend\u001b[1;34m(self, request, **kwargs)\u001b[0m\n\u001b[0;32m    583\u001b[0m \u001b[1;33m\u001b[0m\u001b[0m\n\u001b[0;32m    584\u001b[0m         \u001b[1;31m# Send the request\u001b[0m\u001b[1;33m\u001b[0m\u001b[1;33m\u001b[0m\u001b[0m\n\u001b[1;32m--> 585\u001b[1;33m         \u001b[0mr\u001b[0m \u001b[1;33m=\u001b[0m \u001b[0madapter\u001b[0m\u001b[1;33m.\u001b[0m\u001b[0msend\u001b[0m\u001b[1;33m(\u001b[0m\u001b[0mrequest\u001b[0m\u001b[1;33m,\u001b[0m \u001b[1;33m**\u001b[0m\u001b[0mkwargs\u001b[0m\u001b[1;33m)\u001b[0m\u001b[1;33m\u001b[0m\u001b[0m\n\u001b[0m\u001b[0;32m    586\u001b[0m \u001b[1;33m\u001b[0m\u001b[0m\n\u001b[0;32m    587\u001b[0m         \u001b[1;31m# Total elapsed time of the request (approximately)\u001b[0m\u001b[1;33m\u001b[0m\u001b[1;33m\u001b[0m\u001b[0m\n",
      "\u001b[1;32m/home/zh/anaconda2/lib/python2.7/site-packages/requests/adapters.pyc\u001b[0m in \u001b[0;36msend\u001b[1;34m(self, request, stream, timeout, verify, cert, proxies)\u001b[0m\n\u001b[0;32m    465\u001b[0m                 \u001b[1;32mraise\u001b[0m \u001b[0mProxyError\u001b[0m\u001b[1;33m(\u001b[0m\u001b[0me\u001b[0m\u001b[1;33m,\u001b[0m \u001b[0mrequest\u001b[0m\u001b[1;33m=\u001b[0m\u001b[0mrequest\u001b[0m\u001b[1;33m)\u001b[0m\u001b[1;33m\u001b[0m\u001b[0m\n\u001b[0;32m    466\u001b[0m \u001b[1;33m\u001b[0m\u001b[0m\n\u001b[1;32m--> 467\u001b[1;33m             \u001b[1;32mraise\u001b[0m \u001b[0mConnectionError\u001b[0m\u001b[1;33m(\u001b[0m\u001b[0me\u001b[0m\u001b[1;33m,\u001b[0m \u001b[0mrequest\u001b[0m\u001b[1;33m=\u001b[0m\u001b[0mrequest\u001b[0m\u001b[1;33m)\u001b[0m\u001b[1;33m\u001b[0m\u001b[0m\n\u001b[0m\u001b[0;32m    468\u001b[0m \u001b[1;33m\u001b[0m\u001b[0m\n\u001b[0;32m    469\u001b[0m         \u001b[1;32mexcept\u001b[0m \u001b[0mClosedPoolError\u001b[0m \u001b[1;32mas\u001b[0m \u001b[0me\u001b[0m\u001b[1;33m:\u001b[0m\u001b[1;33m\u001b[0m\u001b[0m\n",
      "\u001b[1;31mConnectionError\u001b[0m: HTTPConnectionPool(host='www.tianyancha.com', port=80): Max retries exceeded with url: /tongji/%E6%B5%99%E6%B1%9F%E5%90%8C%E8%8A%B1%E9%A1%BA%E4%BA%91%E8%BD%AF%E4%BB%B6%E6%9C%89%E9%99%90%E5%85%AC%E5%8F%B8.json (Caused by NewConnectionError('<requests.packages.urllib3.connection.HTTPConnection object at 0x7f02647d09d0>: Failed to establish a new connection: [Errno -2] Name or service not known',))"
     ]
    }
   ],
   "source": [
    "requests.get(url, headers=headers, cookies=getCookies(url)).json()"
   ]
  },
  {
   "cell_type": "markdown",
   "metadata": {
    "collapsed": true
   },
   "source": [
    "###  企信宝\n",
    "\n",
    "site: http://www.qixin.com/\n",
    "\n",
    "Web接口：\n",
    "\n",
    "\n",
    "http://www.qixin.com/search/prov/GD_4403?page=17\n",
    "\n",
    "http://www.qixin.com/service/getAbilityInfo?eid=eff88329-8a0f-4c52-9931-c4388115a398&_=1470656498713\n",
    "\n",
    "\n",
    "http://www.qixin.com/service/getPagingOperationInfo?type=3&eid=eff88329-8a0f-4c52-9931-c4388115a398&page=2&hit=5&_=1470656498712\n"
   ]
  }
 ],
 "metadata": {
  "kernelspec": {
   "display_name": "Python [Root]",
   "language": "python",
   "name": "Python [Root]"
  },
  "language_info": {
   "codemirror_mode": {
    "name": "ipython",
    "version": 2
   },
   "file_extension": ".py",
   "mimetype": "text/x-python",
   "name": "python",
   "nbconvert_exporter": "python",
   "pygments_lexer": "ipython2",
   "version": "2.7.12"
  }
 },
 "nbformat": 4,
 "nbformat_minor": 0
}
