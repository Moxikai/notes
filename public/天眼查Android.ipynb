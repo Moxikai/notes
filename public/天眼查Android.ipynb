{
 "cells": [
  {
   "cell_type": "markdown",
   "metadata": {},
   "source": [
    "## Android\n",
    "\n",
    "入口： com/tianyancha/skyeye/e/g.smali\n",
    "\n",
    "\n",
    "```java\n",
    "  public static Map<String, String> b()\n",
    "  {\n",
    "    HashMap localHashMap = new HashMap();\n",
    "    localHashMap.put(\"Authorization\", Utils.b(ay.a().w(), Utils.d()));\n",
    "    localHashMap.put(\"version\", Utils.e());\n",
    "    localHashMap.put(\"X-Auth-Token\", ay.a().z());\n",
    "    localHashMap.put(\"Content-Type\", \"application/json\");\n",
    "    return localHashMap;\n",
    "  }\n",
    "```\n",
    "\n",
    "Utils.d() -> ((TelephonyManager)App.d().getApplicationContext().getSystemService(\"phone\")).getDeviceId(); // IMEI号\n",
    "\n",
    "ay.a().w() -> getSharedPreferences(\"skyEyeSP\",\"login_phone_number\") || \"0\"\n",
    "\n",
    "```java\n",
    "  public static String b(String paramString1, String paramString2)\n",
    "  {\n",
    "    Object localObject = null;\n",
    "    try\n",
    "    {\n",
    "      paramString1 = ag.a(getS(App.d(), paramString1, paramString2, String.valueOf(App.c())));\n",
    "      return paramString1;\n",
    "    }\n",
    "    catch (Exception paramString1)\n",
    "    {\n",
    "      for (;;)\n",
    "      {\n",
    "        paramString1.printStackTrace();\n",
    "        Log.e(\"Utils\", paramString1.getMessage());\n",
    "        paramString1 = (String)localObject;\n",
    "      }\n",
    "    }\n",
    "  }\n",
    "```\n",
    "\n",
    "App.c() -> System.currentTimeMillis()\n",
    "\n"
   ]
  }
 ],
 "metadata": {
  "kernelspec": {
   "display_name": "Python [Root]",
   "language": "python",
   "name": "Python [Root]"
  },
  "language_info": {
   "codemirror_mode": {
    "name": "ipython",
    "version": 2
   },
   "file_extension": ".py",
   "mimetype": "text/x-python",
   "name": "python",
   "nbconvert_exporter": "python",
   "pygments_lexer": "ipython2",
   "version": "2.7.12"
  }
 },
 "nbformat": 4,
 "nbformat_minor": 0
}
